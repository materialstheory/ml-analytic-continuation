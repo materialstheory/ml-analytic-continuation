{
 "cells": [
  {
   "cell_type": "code",
   "execution_count": 1,
   "metadata": {},
   "outputs": [],
   "source": [
    "%matplotlib inline\n",
    "import numpy as np\n",
    "import matplotlib as mpl\n",
    "import matplotlib.pyplot as plt\n",
    "\n",
    "from kernels import TauKernel\n",
    "from omega_meshes import LinearOmegaMesh\n",
    "\n",
    "from scipy.integrate import simps\n",
    "from scipy.special import eval_legendre\n",
    "\n",
    "from scipy.linalg import svd\n",
    "\n",
    "omega = np.linspace(-8, 8, 800)\n",
    "\n",
    "def Aw2Gl_mat(A_arr, omega, beta, np_tau, lmax):\n",
    "    tau = np.linspace(0, beta, np_tau)\n",
    "    x = np.linspace(-1, 1, np_tau)\n",
    "\n",
    "    K = TauKernel(tau=tau, omega=LinearOmegaMesh(omega_min = omega[0], \n",
    "                                                 omega_max = omega[-1], \n",
    "                                                 n_points=omega.shape[0]),\n",
    "                  beta=beta)\n",
    "\n",
    "    legendre_mat = np.zeros((lmax, np_tau), dtype = np.longdouble)\n",
    "\n",
    "    simps_coeff = np.zeros(np_tau)\n",
    "    simps_coeff[np.arange(np_tau)%2 == 0] = 2\n",
    "    simps_coeff[np.arange(np_tau)%2 == 1] = 4\n",
    "    simps_coeff[0] = 1\n",
    "    simps_coeff[-1] = 1\n",
    "    \n",
    "    for i in range(lmax):\n",
    "        legendre_mat[i,:] = np.sqrt(2*i + 1, dtype = np.longdouble) * eval_legendre(i,x).astype(np.longdouble) * simps_coeff.astype(np.longdouble)\n",
    "        \n",
    "    legendre_mat = legendre_mat * beta/(3*np_tau)\n",
    "\n",
    "    o2l = legendre_mat.dot((K.K_delta).astype(np.longdouble))\n",
    "    \n",
    "    Gl = np.einsum('ij,nj->ni', o2l, A_arr)\n",
    "        \n",
    "    return Gl\n",
    "def o2l(omega, beta, np_tau, lmax):\n",
    "    tau = np.linspace(0, beta, np_tau)\n",
    "    x = np.linspace(-1, 1, np_tau)\n",
    "\n",
    "    K = TauKernel(tau=tau, omega=LinearOmegaMesh(omega_min = omega[0], \n",
    "                                                 omega_max = omega[-1], \n",
    "                                                 n_points=omega.shape[0]),\n",
    "                  beta=beta)\n",
    "\n",
    "    legendre_mat = np.zeros((lmax, np_tau), dtype = np.longdouble)\n",
    "\n",
    "    simps_coeff = np.zeros(np_tau)\n",
    "    simps_coeff[np.arange(np_tau)%2 == 0] = 2\n",
    "    simps_coeff[np.arange(np_tau)%2 == 1] = 4\n",
    "    simps_coeff[0] = 1\n",
    "    simps_coeff[-1] = 1\n",
    "    \n",
    "    for i in range(lmax):\n",
    "        legendre_mat[i,:] = np.sqrt(2*i + 1, dtype = np.longdouble) * eval_legendre(i,x).astype(np.longdouble) * simps_coeff.astype(np.longdouble)\n",
    "        \n",
    "    legendre_mat = legendre_mat * beta/(3*np_tau)\n",
    "\n",
    "    o2l = legendre_mat.dot((K.K_delta).astype(np.longdouble))\n",
    "    \n",
    "   \n",
    "        \n",
    "    return o2l"
   ]
  },
  {
   "cell_type": "code",
   "execution_count": 2,
   "metadata": {},
   "outputs": [],
   "source": [
    "o2l_mat_b40 = o2l(omega, 40, 80001, 80) #simpson's rule: odd np_tau please!"
   ]
  },
  {
   "cell_type": "code",
   "execution_count": 3,
   "metadata": {},
   "outputs": [],
   "source": [
    "u_b40, s_b40, vh_b40 = svd(o2l_mat_b40, lapack_driver='gesvd')"
   ]
  },
  {
   "cell_type": "code",
   "execution_count": 4,
   "metadata": {},
   "outputs": [
    {
     "data": {
      "image/png": "[encoded data removed]",
      "text/plain": [
       "<Figure size 432x288 with 1 Axes>"
      ]
     },
     "metadata": {
      "needs_background": "light"
     },
     "output_type": "display_data"
    }
   ],
   "source": [
    "plt.plot(s_b40)\n",
    "plt.yscale('log')\n",
    "plt.show()"
   ]
  }
 ],
 "metadata": {
  "kernelspec": {
   "display_name": "Python 3",
   "language": "python",
   "name": "python3"
  },
  "language_info": {
   "codemirror_mode": {
    "name": "ipython",
    "version": 3
   },
   "file_extension": ".py",
   "mimetype": "text/x-python",
   "name": "python",
   "nbconvert_exporter": "python",
   "pygments_lexer": "ipython3",
   "version": "3.8.10"
  }
 },
 "nbformat": 4,
 "nbformat_minor": 4
}
